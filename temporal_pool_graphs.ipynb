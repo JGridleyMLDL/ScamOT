{
 "cells": [
  {
   "cell_type": "code",
   "execution_count": 3,
   "metadata": {},
   "outputs": [],
   "source": [
    "import numpy as np\n",
    "import pandas as pd\n",
    "from paths import *\n",
    "import networkx as nx\n",
    "import matplotlib.pyplot as plt"
   ]
  },
  {
   "cell_type": "code",
   "execution_count": 3,
   "metadata": {},
   "outputs": [],
   "source": [
    "# Reading in pools\n",
    "uni_pools = pd.read_csv(\"rawPools_V3.csv\")\n",
    "uni_pools.rename(columns={\"id\":\"contractAddress\"}, inplace=True)\n",
    "uni_creators = pd.read_csv(\"pool_creators.csv\")\n",
    "uni_pools = uni_pools.merge(uni_creators, on=\"contractAddress\")\n",
    "\n",
    "sushi_pools = pd.read_csv(\"sushi_pairs.csv\")\n",
    "sushi_pools.rename(columns={\"id\": \"contractAddress\"}, inplace=True)\n",
    "sushi_creators = pd.read_csv(\"sushi_pool_creators.csv\")\n",
    "sushi_pools = sushi_pools.merge(sushi_creators, on=\"contractAddress\")\n"
   ]
  },
  {
   "cell_type": "code",
   "execution_count": 4,
   "metadata": {},
   "outputs": [],
   "source": [
    "# Reading in the Position Changes\n",
    "sushi_liquidity = pd.read_csv(\"sushi_liquidity_positions.csv\")\n",
    "\n",
    "\n",
    "\n",
    "uni_positions = pd.read_csv(\"rawPositions_V3.csv\")\n",
    "\n",
    "# So this has the liquidity in each pool at daily? timestamps\n",
    "# doesn't have it by user\n"
   ]
  },
  {
   "cell_type": "code",
   "execution_count": 5,
   "metadata": {},
   "outputs": [
    {
     "data": {
      "text/plain": [
       "181295"
      ]
     },
     "execution_count": 5,
     "metadata": {},
     "output_type": "execute_result"
    }
   ],
   "source": [
    "sushi_liquidity[\"block\"].nunique()"
   ]
  },
  {
   "cell_type": "code",
   "execution_count": 6,
   "metadata": {},
   "outputs": [],
   "source": [
    "sushi_liquidity.drop_duplicates(inplace=True)\n",
    "\n",
    "\n",
    "pair_init = sushi_liquidity.loc[:, [\"pair.id\", \"block\", \"timestamp\"]]\n",
    "pair_init = pair_init.sort_values(\"block\").drop_duplicates(subset=[\"pair.id\"])\n",
    "pair_init.columns = [\"contractAddress\", \"init_block\", \"init_time\"]"
   ]
  },
  {
   "cell_type": "code",
   "execution_count": 7,
   "metadata": {},
   "outputs": [
    {
     "data": {
      "text/html": [
       "<div>\n",
       "<style scoped>\n",
       "    .dataframe tbody tr th:only-of-type {\n",
       "        vertical-align: middle;\n",
       "    }\n",
       "\n",
       "    .dataframe tbody tr th {\n",
       "        vertical-align: top;\n",
       "    }\n",
       "\n",
       "    .dataframe thead th {\n",
       "        text-align: right;\n",
       "    }\n",
       "</style>\n",
       "<table border=\"1\" class=\"dataframe\">\n",
       "  <thead>\n",
       "    <tr style=\"text-align: right;\">\n",
       "      <th></th>\n",
       "      <th>contractAddress</th>\n",
       "      <th>init_block</th>\n",
       "      <th>init_time</th>\n",
       "    </tr>\n",
       "  </thead>\n",
       "  <tbody>\n",
       "    <tr>\n",
       "      <th>0</th>\n",
       "      <td>0x58dc5a51fe44589beb22e8ce67720b5bc5378009</td>\n",
       "      <td>10828542</td>\n",
       "      <td>1599668526</td>\n",
       "    </tr>\n",
       "    <tr>\n",
       "      <th>37</th>\n",
       "      <td>0x95b54c8da12bb23f7a5f6e26c38d04acc6f81820</td>\n",
       "      <td>10829114</td>\n",
       "      <td>1599675522</td>\n",
       "    </tr>\n",
       "    <tr>\n",
       "      <th>51</th>\n",
       "      <td>0x611cde65dea90918c0078ac0400a72b0d25b9bb1</td>\n",
       "      <td>10829214</td>\n",
       "      <td>1599676827</td>\n",
       "    </tr>\n",
       "    <tr>\n",
       "      <th>53</th>\n",
       "      <td>0x117d4288b3635021a3d612fe05a3cbf5c717fef2</td>\n",
       "      <td>10829235</td>\n",
       "      <td>1599677095</td>\n",
       "    </tr>\n",
       "    <tr>\n",
       "      <th>57</th>\n",
       "      <td>0x001b6450083e531a5a7bf310bd2c1af4247e23d4</td>\n",
       "      <td>10829243</td>\n",
       "      <td>1599677178</td>\n",
       "    </tr>\n",
       "    <tr>\n",
       "      <th>62</th>\n",
       "      <td>0x31503dcb60119a812fee820bb7042752019f2355</td>\n",
       "      <td>10829250</td>\n",
       "      <td>1599677294</td>\n",
       "    </tr>\n",
       "    <tr>\n",
       "      <th>66</th>\n",
       "      <td>0xa75f7c2f025f470355515482bde9efa8153536a8</td>\n",
       "      <td>10829262</td>\n",
       "      <td>1599677431</td>\n",
       "    </tr>\n",
       "    <tr>\n",
       "      <th>71</th>\n",
       "      <td>0xa1d7b2d891e3a1f9ef4bbc5be20630c2feb1c470</td>\n",
       "      <td>10829272</td>\n",
       "      <td>1599677574</td>\n",
       "    </tr>\n",
       "    <tr>\n",
       "      <th>76</th>\n",
       "      <td>0x5e63360e891bd60c69445970256c260b0a6a54c6</td>\n",
       "      <td>10829280</td>\n",
       "      <td>1599677738</td>\n",
       "    </tr>\n",
       "    <tr>\n",
       "      <th>83</th>\n",
       "      <td>0xf1f85b2c54a2bd284b1cf4141d64fd171bd85539</td>\n",
       "      <td>10829294</td>\n",
       "      <td>1599677885</td>\n",
       "    </tr>\n",
       "    <tr>\n",
       "      <th>88</th>\n",
       "      <td>0xcb2286d9471cc185281c4f763d34a962ed212962</td>\n",
       "      <td>10829302</td>\n",
       "      <td>1599678045</td>\n",
       "    </tr>\n",
       "    <tr>\n",
       "      <th>89</th>\n",
       "      <td>0xc40d16476380e4037e6b1a2594caf6a6cc8da967</td>\n",
       "      <td>10829307</td>\n",
       "      <td>1599678141</td>\n",
       "    </tr>\n",
       "    <tr>\n",
       "      <th>91</th>\n",
       "      <td>0x088ee5007c98a9677165d78dd2109ae4a3d04d0c</td>\n",
       "      <td>10829310</td>\n",
       "      <td>1599678187</td>\n",
       "    </tr>\n",
       "    <tr>\n",
       "      <th>109</th>\n",
       "      <td>0x397ff1542f962076d0bfe58ea045ffa2d347aca0</td>\n",
       "      <td>10829331</td>\n",
       "      <td>1599678405</td>\n",
       "    </tr>\n",
       "    <tr>\n",
       "      <th>110</th>\n",
       "      <td>0xc3d03e4f041fd4cd388c549ee2a29a9e5075882f</td>\n",
       "      <td>10829331</td>\n",
       "      <td>1599678405</td>\n",
       "    </tr>\n",
       "    <tr>\n",
       "      <th>119</th>\n",
       "      <td>0x795065dcc9f64b5614c407a6efdc400da6221fb0</td>\n",
       "      <td>10829340</td>\n",
       "      <td>1599678508</td>\n",
       "    </tr>\n",
       "    <tr>\n",
       "      <th>123</th>\n",
       "      <td>0x06da0fd433c1a5d7a4faa01111c044910a184553</td>\n",
       "      <td>10829344</td>\n",
       "      <td>1599678559</td>\n",
       "    </tr>\n",
       "    <tr>\n",
       "      <th>870</th>\n",
       "      <td>0xbf8722f17e8017c96389c20b41ecb62e1f34e4bd</td>\n",
       "      <td>10829628</td>\n",
       "      <td>1599682348</td>\n",
       "    </tr>\n",
       "    <tr>\n",
       "      <th>955</th>\n",
       "      <td>0x3e5e560db64c87e71260878e58d74406e6d693af</td>\n",
       "      <td>10829661</td>\n",
       "      <td>1599682858</td>\n",
       "    </tr>\n",
       "    <tr>\n",
       "      <th>967</th>\n",
       "      <td>0x28b5e0090ff9c1192e1134135deb17e0b1c1cdbf</td>\n",
       "      <td>10829665</td>\n",
       "      <td>1599682902</td>\n",
       "    </tr>\n",
       "  </tbody>\n",
       "</table>\n",
       "</div>"
      ],
      "text/plain": [
       "                                contractAddress  init_block   init_time\n",
       "0    0x58dc5a51fe44589beb22e8ce67720b5bc5378009    10828542  1599668526\n",
       "37   0x95b54c8da12bb23f7a5f6e26c38d04acc6f81820    10829114  1599675522\n",
       "51   0x611cde65dea90918c0078ac0400a72b0d25b9bb1    10829214  1599676827\n",
       "53   0x117d4288b3635021a3d612fe05a3cbf5c717fef2    10829235  1599677095\n",
       "57   0x001b6450083e531a5a7bf310bd2c1af4247e23d4    10829243  1599677178\n",
       "62   0x31503dcb60119a812fee820bb7042752019f2355    10829250  1599677294\n",
       "66   0xa75f7c2f025f470355515482bde9efa8153536a8    10829262  1599677431\n",
       "71   0xa1d7b2d891e3a1f9ef4bbc5be20630c2feb1c470    10829272  1599677574\n",
       "76   0x5e63360e891bd60c69445970256c260b0a6a54c6    10829280  1599677738\n",
       "83   0xf1f85b2c54a2bd284b1cf4141d64fd171bd85539    10829294  1599677885\n",
       "88   0xcb2286d9471cc185281c4f763d34a962ed212962    10829302  1599678045\n",
       "89   0xc40d16476380e4037e6b1a2594caf6a6cc8da967    10829307  1599678141\n",
       "91   0x088ee5007c98a9677165d78dd2109ae4a3d04d0c    10829310  1599678187\n",
       "109  0x397ff1542f962076d0bfe58ea045ffa2d347aca0    10829331  1599678405\n",
       "110  0xc3d03e4f041fd4cd388c549ee2a29a9e5075882f    10829331  1599678405\n",
       "119  0x795065dcc9f64b5614c407a6efdc400da6221fb0    10829340  1599678508\n",
       "123  0x06da0fd433c1a5d7a4faa01111c044910a184553    10829344  1599678559\n",
       "870  0xbf8722f17e8017c96389c20b41ecb62e1f34e4bd    10829628  1599682348\n",
       "955  0x3e5e560db64c87e71260878e58d74406e6d693af    10829661  1599682858\n",
       "967  0x28b5e0090ff9c1192e1134135deb17e0b1c1cdbf    10829665  1599682902"
      ]
     },
     "execution_count": 7,
     "metadata": {},
     "output_type": "execute_result"
    }
   ],
   "source": [
    "pair_init.head(20)"
   ]
  },
  {
   "cell_type": "code",
   "execution_count": 94,
   "metadata": {},
   "outputs": [
    {
     "data": {
      "text/plain": [
       "(3592, 15)"
      ]
     },
     "execution_count": 94,
     "metadata": {},
     "output_type": "execute_result"
    }
   ],
   "source": [
    "sushi_pools.shape"
   ]
  },
  {
   "cell_type": "code",
   "execution_count": 95,
   "metadata": {},
   "outputs": [],
   "source": [
    "sushi_pools = sushi_pools.merge(pair_init, on=\"contractAddress\")"
   ]
  },
  {
   "cell_type": "code",
   "execution_count": 15,
   "metadata": {},
   "outputs": [],
   "source": [
    "file = open('temporal_liquidity_graphs.pkl', 'wb')\n"
   ]
  },
  {
   "cell_type": "code",
   "execution_count": 16,
   "metadata": {},
   "outputs": [
    {
     "ename": "",
     "evalue": "",
     "output_type": "error",
     "traceback": [
      "\u001b[1;31mCanceled future for execute_request message before replies were done"
     ]
    },
    {
     "ename": "",
     "evalue": "",
     "output_type": "error",
     "traceback": [
      "\u001b[1;31mThe Kernel crashed while executing code in the the current cell or a previous cell. Please review the code in the cell(s) to identify a possible cause of the failure. Click <a href='https://aka.ms/vscodeJupyterKernelCrash'>here</a> for more info. View Jupyter <a href='command:jupyter.viewOutput'>log</a> for further details."
     ]
    }
   ],
   "source": [
    "# Need to create the sequence of graphs G = [g1,g2,g3,...]\n",
    "# at each block step\n",
    "\n",
    "# We will have 181295 graphs...sigh, this is going to take a lot of space\n",
    "import pickle\n",
    "blocks = list(sushi_liquidity[\"block\"].drop_duplicates())\n",
    "Graphs = []\n",
    "\n",
    "def get_sushi_graph(block_num):\n",
    "    liq_pos = sushi_liquidity[sushi_liquidity[\"block\"] <= block_step]\n",
    "    G = nx.from_pandas_edgelist(liq_pos, \"user.id\", \"pair.id\",\n",
    "                                edge_attr=\"liquidityTokenBalance\", create_using=nx.MultiDiGraph)\n",
    "    \n",
    "    return G\n",
    "\n",
    "get_sushi_graph\n",
    "    "
   ]
  },
  {
   "cell_type": "code",
   "execution_count": null,
   "metadata": {},
   "outputs": [],
   "source": []
  },
  {
   "cell_type": "code",
   "execution_count": null,
   "metadata": {},
   "outputs": [],
   "source": [
    "len(Graphs)"
   ]
  },
  {
   "cell_type": "code",
   "execution_count": 14,
   "metadata": {},
   "outputs": [
    {
     "data": {
      "image/png": "[encoded data removed]",
      "text/plain": [
       "<Figure size 432x288 with 1 Axes>"
      ]
     },
     "metadata": {},
     "output_type": "display_data"
    }
   ],
   "source": [
    "nx.draw(Graphs[3099], pos=nx.spring_layout(Graphs[3099]), node_size=10)\n",
    "plt.show()"
   ]
  },
  {
   "cell_type": "code",
   "execution_count": 107,
   "metadata": {},
   "outputs": [
    {
     "data": {
      "text/plain": [
       "10830609"
      ]
     },
     "execution_count": 107,
     "metadata": {},
     "output_type": "execute_result"
    }
   ],
   "source": [
    "blocks[1130]"
   ]
  },
  {
   "cell_type": "code",
   "execution_count": null,
   "metadata": {},
   "outputs": [
    {
     "data": {
      "text/html": [
       "<div>\n",
       "<style scoped>\n",
       "    .dataframe tbody tr th:only-of-type {\n",
       "        vertical-align: middle;\n",
       "    }\n",
       "\n",
       "    .dataframe tbody tr th {\n",
       "        vertical-align: top;\n",
       "    }\n",
       "\n",
       "    .dataframe thead th {\n",
       "        text-align: right;\n",
       "    }\n",
       "</style>\n",
       "<table border=\"1\" class=\"dataframe\">\n",
       "  <thead>\n",
       "    <tr style=\"text-align: right;\">\n",
       "      <th></th>\n",
       "      <th>name</th>\n",
       "      <th>contractAddress</th>\n",
       "      <th>token0.id</th>\n",
       "      <th>token0.symbol</th>\n",
       "      <th>token0.name</th>\n",
       "      <th>token0.decimals</th>\n",
       "      <th>token1.id</th>\n",
       "      <th>token1.symbol</th>\n",
       "      <th>token1.name</th>\n",
       "      <th>token1.decimals</th>\n",
       "      <th>totalSupply</th>\n",
       "      <th>volumeUSD</th>\n",
       "      <th>txCount</th>\n",
       "      <th>contractCreator</th>\n",
       "      <th>txHash</th>\n",
       "      <th>init_block</th>\n",
       "      <th>init_time</th>\n",
       "    </tr>\n",
       "  </thead>\n",
       "  <tbody>\n",
       "  </tbody>\n",
       "</table>\n",
       "</div>"
      ],
      "text/plain": [
       "Empty DataFrame\n",
       "Columns: [name, contractAddress, token0.id, token0.symbol, token0.name, token0.decimals, token1.id, token1.symbol, token1.name, token1.decimals, totalSupply, volumeUSD, txCount, contractCreator, txHash, init_block, init_time]\n",
       "Index: []"
      ]
     },
     "execution_count": 73,
     "metadata": {},
     "output_type": "execute_result"
    }
   ],
   "source": [
    "sushi_pools[sushi_pools[\"init_block\"] == 10828564]\n"
   ]
  },
  {
   "cell_type": "code",
   "execution_count": null,
   "metadata": {},
   "outputs": [
    {
     "name": "stdout",
     "output_type": "stream",
     "text": [
      "0x89ae8855743256a93a82aad56aab4a23fbf14242 0x58dc5a51fe44589beb22e8ce67720b5bc5378009 0.0\n"
     ]
    }
   ],
   "source": [
    "liq_pos = sushi_liquidity[sushi_liquidity[\"block\"] == 10828564]\n",
    "for row in liq_pos.iterrows():\n",
    "    G_prev.add_edge(row[1][\"user.id\"], row[1][\"pair.id\"], attr=row[1][\"liquidityTokenBalance\"])"
   ]
  },
  {
   "cell_type": "code",
   "execution_count": 13,
   "metadata": {},
   "outputs": [
    {
     "data": {
      "text/plain": [
       "array(['CAFE-WETH', 'ZAG-WETH', 'WHIVE-WETH', 'PERX-WETH', 'WETH-JRE',\n",
       "       'HEGIC-WETH', 'YFL-WETH', 'HGET-USDT', 'DAI-Dap', 'BUSD-WETH',\n",
       "       'RBT-WETH', 'BOBA-WETH', 'WETH-RARI', 'MoonGain-WETH', 'WETH-BOBA',\n",
       "       'WETH-ZEON', 'gSushi-SUSHI', 'MSI-WETH', 'BERRY-WETH',\n",
       "       'ROOBEE-WETH', 'SUSHI-TOAST', 'BTSE-WETH', '1913-USDT',\n",
       "       '  比特币  -WETH', 'UBXT-WETH', 'YFMEAT-WETH', 'WETH-PYLON',\n",
       "       'Yf3L-WETH', 'YFII-WETH', 'HGET-WETH'], dtype=object)"
      ]
     },
     "execution_count": 13,
     "metadata": {},
     "output_type": "execute_result"
    }
   ],
   "source": [
    "l = sushi_liquidity[\"pair.name\"].drop_duplicates().values\n",
    "l[70:100]"
   ]
  },
  {
   "cell_type": "code",
   "execution_count": 14,
   "metadata": {},
   "outputs": [
    {
     "data": {
      "text/html": [
       "<div>\n",
       "<style scoped>\n",
       "    .dataframe tbody tr th:only-of-type {\n",
       "        vertical-align: middle;\n",
       "    }\n",
       "\n",
       "    .dataframe tbody tr th {\n",
       "        vertical-align: top;\n",
       "    }\n",
       "\n",
       "    .dataframe thead th {\n",
       "        text-align: right;\n",
       "    }\n",
       "</style>\n",
       "<table border=\"1\" class=\"dataframe\">\n",
       "  <thead>\n",
       "    <tr style=\"text-align: right;\">\n",
       "      <th></th>\n",
       "      <th>id</th>\n",
       "      <th>user.id</th>\n",
       "      <th>liquidityTokenBalance</th>\n",
       "      <th>pair.id</th>\n",
       "      <th>pair.name</th>\n",
       "      <th>pair.token0.id</th>\n",
       "      <th>pair.token0.name</th>\n",
       "      <th>pair.token1.id</th>\n",
       "      <th>pair.token1.name</th>\n",
       "      <th>block</th>\n",
       "      <th>timestamp</th>\n",
       "    </tr>\n",
       "  </thead>\n",
       "  <tbody>\n",
       "    <tr>\n",
       "      <th>0</th>\n",
       "      <td>0x58dc5a51fe44589beb22e8ce67720b5bc5378009-0x8...</td>\n",
       "      <td>0x88e6c88d262b7c6d90a29ff11862e4003f1a2e46</td>\n",
       "      <td>0.000000</td>\n",
       "      <td>0x58dc5a51fe44589beb22e8ce67720b5bc5378009</td>\n",
       "      <td>WETH-CRV</td>\n",
       "      <td>0xc02aaa39b223fe8d0a0e5c4f27ead9083c756cc2</td>\n",
       "      <td>Wrapped Ether</td>\n",
       "      <td>0xd533a949740bb3306d119cc777fa900ba034cd52</td>\n",
       "      <td>Curve DAO Token</td>\n",
       "      <td>10828542</td>\n",
       "      <td>1599668526</td>\n",
       "    </tr>\n",
       "    <tr>\n",
       "      <th>1</th>\n",
       "      <td>0x58dc5a51fe44589beb22e8ce67720b5bc5378009-0x9...</td>\n",
       "      <td>0x9235fd6839b0d8b2fae8c7008365382da79314e6</td>\n",
       "      <td>0.000000</td>\n",
       "      <td>0x58dc5a51fe44589beb22e8ce67720b5bc5378009</td>\n",
       "      <td>WETH-CRV</td>\n",
       "      <td>0xc02aaa39b223fe8d0a0e5c4f27ead9083c756cc2</td>\n",
       "      <td>Wrapped Ether</td>\n",
       "      <td>0xd533a949740bb3306d119cc777fa900ba034cd52</td>\n",
       "      <td>Curve DAO Token</td>\n",
       "      <td>10828542</td>\n",
       "      <td>1599668526</td>\n",
       "    </tr>\n",
       "    <tr>\n",
       "      <th>2</th>\n",
       "      <td>0x58dc5a51fe44589beb22e8ce67720b5bc5378009-0xc...</td>\n",
       "      <td>0xc16414ac1fedfdac4f8a09674d994e1bbb9d7113</td>\n",
       "      <td>0.000000</td>\n",
       "      <td>0x58dc5a51fe44589beb22e8ce67720b5bc5378009</td>\n",
       "      <td>WETH-CRV</td>\n",
       "      <td>0xc02aaa39b223fe8d0a0e5c4f27ead9083c756cc2</td>\n",
       "      <td>Wrapped Ether</td>\n",
       "      <td>0xd533a949740bb3306d119cc777fa900ba034cd52</td>\n",
       "      <td>Curve DAO Token</td>\n",
       "      <td>10828561</td>\n",
       "      <td>1599668820</td>\n",
       "    </tr>\n",
       "    <tr>\n",
       "      <th>3</th>\n",
       "      <td>0x58dc5a51fe44589beb22e8ce67720b5bc5378009-0x8...</td>\n",
       "      <td>0x89ae8855743256a93a82aad56aab4a23fbf14242</td>\n",
       "      <td>0.000000</td>\n",
       "      <td>0x58dc5a51fe44589beb22e8ce67720b5bc5378009</td>\n",
       "      <td>WETH-CRV</td>\n",
       "      <td>0xc02aaa39b223fe8d0a0e5c4f27ead9083c756cc2</td>\n",
       "      <td>Wrapped Ether</td>\n",
       "      <td>0xd533a949740bb3306d119cc777fa900ba034cd52</td>\n",
       "      <td>Curve DAO Token</td>\n",
       "      <td>10828564</td>\n",
       "      <td>1599668851</td>\n",
       "    </tr>\n",
       "    <tr>\n",
       "      <th>4</th>\n",
       "      <td>0x58dc5a51fe44589beb22e8ce67720b5bc5378009-0x8...</td>\n",
       "      <td>0x85c5489f74fe5000ff0701535d9ec8ef49dfe704</td>\n",
       "      <td>0.000000</td>\n",
       "      <td>0x58dc5a51fe44589beb22e8ce67720b5bc5378009</td>\n",
       "      <td>WETH-CRV</td>\n",
       "      <td>0xc02aaa39b223fe8d0a0e5c4f27ead9083c756cc2</td>\n",
       "      <td>Wrapped Ether</td>\n",
       "      <td>0xd533a949740bb3306d119cc777fa900ba034cd52</td>\n",
       "      <td>Curve DAO Token</td>\n",
       "      <td>10828601</td>\n",
       "      <td>1599669256</td>\n",
       "    </tr>\n",
       "    <tr>\n",
       "      <th>...</th>\n",
       "      <td>...</td>\n",
       "      <td>...</td>\n",
       "      <td>...</td>\n",
       "      <td>...</td>\n",
       "      <td>...</td>\n",
       "      <td>...</td>\n",
       "      <td>...</td>\n",
       "      <td>...</td>\n",
       "      <td>...</td>\n",
       "      <td>...</td>\n",
       "      <td>...</td>\n",
       "    </tr>\n",
       "    <tr>\n",
       "      <th>199054</th>\n",
       "      <td>0xc3f279090a47e80990fe3a9c30d24cb117ef91a8-0x7...</td>\n",
       "      <td>0x74416b049041de5b126daf12a72b955df79611ae</td>\n",
       "      <td>0.009540</td>\n",
       "      <td>0xc3f279090a47e80990fe3a9c30d24cb117ef91a8</td>\n",
       "      <td>WETH-ALCX</td>\n",
       "      <td>0xc02aaa39b223fe8d0a0e5c4f27ead9083c756cc2</td>\n",
       "      <td>Wrapped Ether</td>\n",
       "      <td>0xdbdb4d16eda451d0503b854cf79d55697f90c8df</td>\n",
       "      <td>Alchemix</td>\n",
       "      <td>16869282</td>\n",
       "      <td>1679320103</td>\n",
       "    </tr>\n",
       "    <tr>\n",
       "      <th>199055</th>\n",
       "      <td>0x0eee7f7319013df1f24f5eaf83004fcf9cf49245-0x7...</td>\n",
       "      <td>0x74416b049041de5b126daf12a72b955df79611ae</td>\n",
       "      <td>1.630176</td>\n",
       "      <td>0x0eee7f7319013df1f24f5eaf83004fcf9cf49245</td>\n",
       "      <td>BAO-WETH</td>\n",
       "      <td>0x374cb8c27130e2c9e04f44303f3c8351b9de61c1</td>\n",
       "      <td>BaoToken</td>\n",
       "      <td>0xc02aaa39b223fe8d0a0e5c4f27ead9083c756cc2</td>\n",
       "      <td>Wrapped Ether</td>\n",
       "      <td>16869309</td>\n",
       "      <td>1679320427</td>\n",
       "    </tr>\n",
       "    <tr>\n",
       "      <th>199056</th>\n",
       "      <td>0x0225e940deecc32a8d7c003cfb7dae22af18460c-0x7...</td>\n",
       "      <td>0x74416b049041de5b126daf12a72b955df79611ae</td>\n",
       "      <td>0.000130</td>\n",
       "      <td>0x0225e940deecc32a8d7c003cfb7dae22af18460c</td>\n",
       "      <td>COOL-WETH</td>\n",
       "      <td>0x114f1388fab456c4ba31b1850b244eedcd024136</td>\n",
       "      <td>Cool Cats</td>\n",
       "      <td>0xc02aaa39b223fe8d0a0e5c4f27ead9083c756cc2</td>\n",
       "      <td>Wrapped Ether</td>\n",
       "      <td>16869330</td>\n",
       "      <td>1679320679</td>\n",
       "    </tr>\n",
       "    <tr>\n",
       "      <th>199057</th>\n",
       "      <td>0x82ebcd936c9e938704b65027850e42393f8bc4d4-0x7...</td>\n",
       "      <td>0x7473609cbba9c29f88ccc871b5649a7504003d28</td>\n",
       "      <td>0.000000</td>\n",
       "      <td>0x82ebcd936c9e938704b65027850e42393f8bc4d4</td>\n",
       "      <td>NAOS-WETH</td>\n",
       "      <td>0x4a615bb7166210cce20e6642a6f8fb5d4d044496</td>\n",
       "      <td>NAOSToken</td>\n",
       "      <td>0xc02aaa39b223fe8d0a0e5c4f27ead9083c756cc2</td>\n",
       "      <td>Wrapped Ether</td>\n",
       "      <td>16869417</td>\n",
       "      <td>1679321735</td>\n",
       "    </tr>\n",
       "    <tr>\n",
       "      <th>199058</th>\n",
       "      <td>0x1ad651a07b98464aa42f6cad68d0ce8639b659a5-0x0...</td>\n",
       "      <td>0x0a8ed02597f129625385f90e7f3af4d88960893b</td>\n",
       "      <td>200.000000</td>\n",
       "      <td>0x1ad651a07b98464aa42f6cad68d0ce8639b659a5</td>\n",
       "      <td>WETH-MEZZ</td>\n",
       "      <td>0xc02aaa39b223fe8d0a0e5c4f27ead9083c756cc2</td>\n",
       "      <td>Wrapped Ether</td>\n",
       "      <td>0xc4c346edc55504574cceb00aa1091d22404a4bc3</td>\n",
       "      <td>MEZZ Token</td>\n",
       "      <td>16869735</td>\n",
       "      <td>1679325611</td>\n",
       "    </tr>\n",
       "  </tbody>\n",
       "</table>\n",
       "<p>199059 rows × 11 columns</p>\n",
       "</div>"
      ],
      "text/plain": [
       "                                                       id  \\\n",
       "0       0x58dc5a51fe44589beb22e8ce67720b5bc5378009-0x8...   \n",
       "1       0x58dc5a51fe44589beb22e8ce67720b5bc5378009-0x9...   \n",
       "2       0x58dc5a51fe44589beb22e8ce67720b5bc5378009-0xc...   \n",
       "3       0x58dc5a51fe44589beb22e8ce67720b5bc5378009-0x8...   \n",
       "4       0x58dc5a51fe44589beb22e8ce67720b5bc5378009-0x8...   \n",
       "...                                                   ...   \n",
       "199054  0xc3f279090a47e80990fe3a9c30d24cb117ef91a8-0x7...   \n",
       "199055  0x0eee7f7319013df1f24f5eaf83004fcf9cf49245-0x7...   \n",
       "199056  0x0225e940deecc32a8d7c003cfb7dae22af18460c-0x7...   \n",
       "199057  0x82ebcd936c9e938704b65027850e42393f8bc4d4-0x7...   \n",
       "199058  0x1ad651a07b98464aa42f6cad68d0ce8639b659a5-0x0...   \n",
       "\n",
       "                                           user.id  liquidityTokenBalance  \\\n",
       "0       0x88e6c88d262b7c6d90a29ff11862e4003f1a2e46               0.000000   \n",
       "1       0x9235fd6839b0d8b2fae8c7008365382da79314e6               0.000000   \n",
       "2       0xc16414ac1fedfdac4f8a09674d994e1bbb9d7113               0.000000   \n",
       "3       0x89ae8855743256a93a82aad56aab4a23fbf14242               0.000000   \n",
       "4       0x85c5489f74fe5000ff0701535d9ec8ef49dfe704               0.000000   \n",
       "...                                            ...                    ...   \n",
       "199054  0x74416b049041de5b126daf12a72b955df79611ae               0.009540   \n",
       "199055  0x74416b049041de5b126daf12a72b955df79611ae               1.630176   \n",
       "199056  0x74416b049041de5b126daf12a72b955df79611ae               0.000130   \n",
       "199057  0x7473609cbba9c29f88ccc871b5649a7504003d28               0.000000   \n",
       "199058  0x0a8ed02597f129625385f90e7f3af4d88960893b             200.000000   \n",
       "\n",
       "                                           pair.id  pair.name  \\\n",
       "0       0x58dc5a51fe44589beb22e8ce67720b5bc5378009   WETH-CRV   \n",
       "1       0x58dc5a51fe44589beb22e8ce67720b5bc5378009   WETH-CRV   \n",
       "2       0x58dc5a51fe44589beb22e8ce67720b5bc5378009   WETH-CRV   \n",
       "3       0x58dc5a51fe44589beb22e8ce67720b5bc5378009   WETH-CRV   \n",
       "4       0x58dc5a51fe44589beb22e8ce67720b5bc5378009   WETH-CRV   \n",
       "...                                            ...        ...   \n",
       "199054  0xc3f279090a47e80990fe3a9c30d24cb117ef91a8  WETH-ALCX   \n",
       "199055  0x0eee7f7319013df1f24f5eaf83004fcf9cf49245   BAO-WETH   \n",
       "199056  0x0225e940deecc32a8d7c003cfb7dae22af18460c  COOL-WETH   \n",
       "199057  0x82ebcd936c9e938704b65027850e42393f8bc4d4  NAOS-WETH   \n",
       "199058  0x1ad651a07b98464aa42f6cad68d0ce8639b659a5  WETH-MEZZ   \n",
       "\n",
       "                                    pair.token0.id pair.token0.name  \\\n",
       "0       0xc02aaa39b223fe8d0a0e5c4f27ead9083c756cc2    Wrapped Ether   \n",
       "1       0xc02aaa39b223fe8d0a0e5c4f27ead9083c756cc2    Wrapped Ether   \n",
       "2       0xc02aaa39b223fe8d0a0e5c4f27ead9083c756cc2    Wrapped Ether   \n",
       "3       0xc02aaa39b223fe8d0a0e5c4f27ead9083c756cc2    Wrapped Ether   \n",
       "4       0xc02aaa39b223fe8d0a0e5c4f27ead9083c756cc2    Wrapped Ether   \n",
       "...                                            ...              ...   \n",
       "199054  0xc02aaa39b223fe8d0a0e5c4f27ead9083c756cc2    Wrapped Ether   \n",
       "199055  0x374cb8c27130e2c9e04f44303f3c8351b9de61c1         BaoToken   \n",
       "199056  0x114f1388fab456c4ba31b1850b244eedcd024136        Cool Cats   \n",
       "199057  0x4a615bb7166210cce20e6642a6f8fb5d4d044496        NAOSToken   \n",
       "199058  0xc02aaa39b223fe8d0a0e5c4f27ead9083c756cc2    Wrapped Ether   \n",
       "\n",
       "                                    pair.token1.id pair.token1.name     block  \\\n",
       "0       0xd533a949740bb3306d119cc777fa900ba034cd52  Curve DAO Token  10828542   \n",
       "1       0xd533a949740bb3306d119cc777fa900ba034cd52  Curve DAO Token  10828542   \n",
       "2       0xd533a949740bb3306d119cc777fa900ba034cd52  Curve DAO Token  10828561   \n",
       "3       0xd533a949740bb3306d119cc777fa900ba034cd52  Curve DAO Token  10828564   \n",
       "4       0xd533a949740bb3306d119cc777fa900ba034cd52  Curve DAO Token  10828601   \n",
       "...                                            ...              ...       ...   \n",
       "199054  0xdbdb4d16eda451d0503b854cf79d55697f90c8df         Alchemix  16869282   \n",
       "199055  0xc02aaa39b223fe8d0a0e5c4f27ead9083c756cc2    Wrapped Ether  16869309   \n",
       "199056  0xc02aaa39b223fe8d0a0e5c4f27ead9083c756cc2    Wrapped Ether  16869330   \n",
       "199057  0xc02aaa39b223fe8d0a0e5c4f27ead9083c756cc2    Wrapped Ether  16869417   \n",
       "199058  0xc4c346edc55504574cceb00aa1091d22404a4bc3       MEZZ Token  16869735   \n",
       "\n",
       "         timestamp  \n",
       "0       1599668526  \n",
       "1       1599668526  \n",
       "2       1599668820  \n",
       "3       1599668851  \n",
       "4       1599669256  \n",
       "...            ...  \n",
       "199054  1679320103  \n",
       "199055  1679320427  \n",
       "199056  1679320679  \n",
       "199057  1679321735  \n",
       "199058  1679325611  \n",
       "\n",
       "[199059 rows x 11 columns]"
      ]
     },
     "execution_count": 14,
     "metadata": {},
     "output_type": "execute_result"
    }
   ],
   "source": [
    "sushi_liquidity"
   ]
  },
  {
   "cell_type": "code",
   "execution_count": null,
   "metadata": {},
   "outputs": [],
   "source": [
    "          "
   ]
  }
 ],
 "metadata": {
  "kernelspec": {
   "display_name": "Python 3",
   "language": "python",
   "name": "python3"
  },
  "language_info": {
   "codemirror_mode": {
    "name": "ipython",
    "version": 3
   },
   "file_extension": ".py",
   "mimetype": "text/x-python",
   "name": "python",
   "nbconvert_exporter": "python",
   "pygments_lexer": "ipython3",
   "version": "3.10.1"
  },
  "orig_nbformat": 4,
  "vscode": {
   "interpreter": {
    "hash": "98590ff4fe04c8543246b2a01debd3de3c5ca9b666f43f1fa87d5110c692004c"
   }
  }
 },
 "nbformat": 4,
 "nbformat_minor": 2
}
